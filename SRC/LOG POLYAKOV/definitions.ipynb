{
 "cells": [
  {
   "cell_type": "markdown",
   "id": "9b3c4484",
   "metadata": {},
   "source": [
    "Aqui, vão as definições para a parametrização logaritmica do loop de Polyakov. O potencial é definido como\n",
    "\n",
    "$\\frac{U(\\Phi, T)}{T^4} = -\\frac{1}{2}a(T)\\bar{\\Phi} \\Phi + b(T)\\ln[{1-6\\bar{\\Phi} \\Phi + 4(\\bar{\\Phi}^3 + \\Phi^3) - 3(\\bar{\\Phi} \\Phi)^2}]$\n",
    "\n",
    "onde os prâmetros $a(T)$ e $b(T)$ são dados por\n",
    "\n",
    "$a(T) = a_0 + a_1\\left( \\frac{T_0}{T}\\right) + a_2 \\left( \\frac{T_0}{T}\\right)^2$\n",
    "\n",
    "e\n",
    "\n",
    "$b(T) = b_3 \\left( \\frac{T_0}{T} \\right)^3$\n",
    "\n",
    "com $T_0 = 270\\text{ MeV}$\n",
    "Os valores dos parâmetros são ajustados de modo a reproduzir constantes físicas conhecidas. São eles\n",
    "\n",
    "$a_0 = 3.51, \\; a_1 = -2.47, \\; a_2 = 15.2, \\; b_3 = -1.75$\n",
    "\n",
    "Já os parâmetros padrão do modelo NJL são dados por\n",
    "\n",
    "$m_0 = 5.5\\text{ MeV, } \\Lambda = 0.65\\text{ GeV, } G = 10.1\\text{ GeV}^{-2}$\n",
    "\n",
    "O potencial termodinâmico que usei é o mesmo da ref. da Ratti, com as integrais\n",
    "\n",
    "$I_{med} = \\int \\frac{d^3p}{(2\\pi)^3} (z_\\phi^+ + z_\\phi^-)$\n",
    "\n",
    "e\n",
    "\n",
    "$I_{vac} = \\int \\frac{d^3p}{(2\\pi)^3}Ep$\n",
    "\n",
    "O potencial inteiro é dado por\n",
    "\n",
    "$\\Omega = \\frac{(M-m)^2}{4G} + U(\\Phi, \\bar\\Phi, T) - 2N_f T I_{med} - 6N_f I_{vac}$\n",
    "\n",
    "E é esse que estou usando para as diferentes parametrizações.\n"
   ]
  },
  {
   "cell_type": "markdown",
   "id": "331e07bc",
   "metadata": {},
   "source": []
  },
  {
   "cell_type": "markdown",
   "id": "6e984d1a",
   "metadata": {},
   "source": []
  }
 ],
 "metadata": {
  "kernelspec": {
   "display_name": "Python 3",
   "language": "python",
   "name": "python3"
  },
  "language_info": {
   "codemirror_mode": {
    "name": "ipython",
    "version": 3
   },
   "file_extension": ".py",
   "mimetype": "text/x-python",
   "name": "python",
   "nbconvert_exporter": "python",
   "pygments_lexer": "ipython3",
   "version": "3.13.0"
  }
 },
 "nbformat": 4,
 "nbformat_minor": 5
}
